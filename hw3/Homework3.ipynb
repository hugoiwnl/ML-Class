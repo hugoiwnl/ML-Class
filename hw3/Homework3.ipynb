{
 "cells": [
  {
   "cell_type": "code",
   "execution_count": 1,
   "id": "2e4be961-6815-40bc-87d2-04eb17acbe00",
   "metadata": {},
   "outputs": [],
   "source": [
    "from sklearn.datasets import load_digits\n",
    "digits = load_digits()"
   ]
  },
  {
   "cell_type": "code",
   "execution_count": 2,
   "id": "42a5c0f4-ea2f-4d06-ab00-c1c8f2f14cd6",
   "metadata": {},
   "outputs": [],
   "source": [
    "import numpy as np\n",
    "from sklearn.model_selection import train_test_split\n",
    "\n",
    "X_train, X_test, y_train, y_test = train_test_split(digits['data'], digits['target'], test_size=0.3, random_state=42)"
   ]
  },
  {
   "cell_type": "markdown",
   "id": "c20af9df-a34c-4152-ab3d-00e70fba1113",
   "metadata": {},
   "source": [
    "# Task 1 - Kernelized SVM"
   ]
  },
  {
   "cell_type": "markdown",
   "id": "bf3afd5a-6090-418c-b1bf-61ea64b3b835",
   "metadata": {},
   "source": [
    "## Subtask 1 - SVMs With Different Kernels"
   ]
  },
  {
   "cell_type": "markdown",
   "id": "b1641088-3e40-4080-be2c-9e0d01a8ec7c",
   "metadata": {},
   "source": [
    "Here I define a function which I will use for every kernel, where I will compute the model's performance with a specific kernel without any tuning of the hyperparameters. I compute the accuracy score on both trening and test data."
   ]
  },
  {
   "cell_type": "code",
   "execution_count": 3,
   "id": "2c71dd50-25d7-46f7-93c9-e631e148386b",
   "metadata": {},
   "outputs": [],
   "source": [
    "def accuracy_no_tuning(ker):\n",
    "    # Calculting the test accuracy\n",
    "    svm_model = SVC(kernel=ker)\n",
    "    svm_model.fit(X_train, y_train)\n",
    "    y_pred_test = svm_model.predict(X_test)\n",
    "    accuracy_test = accuracy_score(y_test, y_pred_test)\n",
    "    \n",
    "    print(f\"Kernel test accuracy before tuning: {accuracy_test}\")\n",
    "    \n",
    "    # Calculating the training accuracy\n",
    "    y_pred_train = svm_model.predict(X_train)\n",
    "    accuracy_train = accuracy_score(y_train, y_pred_train)\n",
    "    \n",
    "    print(f\"Kernel train accuracy before tuning: {accuracy_train}\")\n",
    "    return accuracy_test, accuracy_train"
   ]
  },
  {
   "cell_type": "markdown",
   "id": "6d7b0535-32fc-4101-a0b9-6d78307ac93e",
   "metadata": {},
   "source": [
    "### Linear kernel"
   ]
  },
  {
   "cell_type": "markdown",
   "id": "22652d33-10fc-4c3c-898f-a47c0aac1b2b",
   "metadata": {},
   "source": [
    "In the first part, I calculate the model accuracy for training and test data without tuning the hyperparameter C (regulizer)."
   ]
  },
  {
   "cell_type": "code",
   "execution_count": 4,
   "id": "003c7be5-ad1d-49bc-bbdc-6f41244cc921",
   "metadata": {},
   "outputs": [
    {
     "name": "stdout",
     "output_type": "stream",
     "text": [
      "Kernel test accuracy before tuning: 0.9796296296296296\n",
      "Kernel train accuracy before tuning: 1.0\n"
     ]
    }
   ],
   "source": [
    "from sklearn.svm import SVC\n",
    "from sklearn.datasets import make_classification\n",
    "from sklearn.model_selection import train_test_split\n",
    "from sklearn.metrics import accuracy_score\n",
    "import matplotlib.pyplot as plt\n",
    "\n",
    "# Printing the initial accuracies without tuning the model and saving them for later analysis\n",
    "nt_linear_test, nt_linear_train = accuracy_no_tuning(\"linear\")"
   ]
  },
  {
   "cell_type": "markdown",
   "id": "bfe1c0de-11e3-4ca1-994b-31d6e294d3b2",
   "metadata": {},
   "source": [
    "For finding the optimal hyperparameter, I will try different values of C and calculate 10-fold cross validations scores over training data to find it. For simplicity, I choose the c values that are in the 4th line, which may not be the most optimal ones."
   ]
  },
  {
   "cell_type": "code",
   "execution_count": 5,
   "id": "6fd1a4e6-5755-4516-b18e-b15423104490",
   "metadata": {},
   "outputs": [
    {
     "name": "stdout",
     "output_type": "stream",
     "text": [
      "The optimal value for hyperparameter C: 0.001\n",
      "Test Accuracy after tuning the model: 0.9833333333333333\n",
      "Train Accuracy after tuning the model: 0.9904534606205251\n"
     ]
    }
   ],
   "source": [
    "from sklearn.model_selection import cross_val_score\n",
    "\n",
    "# Different C values that I used for finding the optimal hyperparameter\n",
    "C_values = [0.001, 0.01, 0.1, 1, 10, 100, 1000]\n",
    "\n",
    "# Making a dictionary to store the cross validations scores for each C value\n",
    "results = {}\n",
    "\n",
    "for C in C_values:\n",
    "    # Initialize SVM with a linear kernel and the current C value\n",
    "    svm_linear = SVC(kernel='linear', C=C)\n",
    "    \n",
    "    # Perform cross-validation (here, using 10-fold cross-validation)\n",
    "    cross_val_scores = cross_val_score(svm_linear, X_train, y_train, cv=10, scoring='accuracy')\n",
    "    \n",
    "    # Store the average cross-validation accuracy for the current C value\n",
    "    results[C] = np.mean(cross_val_scores)\n",
    "\n",
    "# Find the C value that gives the highest average cross-validation accuracy\n",
    "best_C = max(results, key=results.get)\n",
    "\n",
    "# Train the final model with the best C value on the entire training set\n",
    "best_svm_linear = SVC(kernel='linear', C=best_C)\n",
    "best_svm_linear.fit(X_train, y_train)\n",
    "\n",
    "# Evaluate on the test set\n",
    "test_preds = best_svm_linear.predict(X_test)\n",
    "test_accuracy_linear = accuracy_score(y_test, test_preds)\n",
    "\n",
    "# Evaluate on the training set\n",
    "train_preds = best_svm_linear.predict(X_train)\n",
    "train_accuracy_linear = accuracy_score(y_train, train_preds)\n",
    "\n",
    "# Print results\n",
    "print(\"The optimal value for hyperparameter C:\", best_C)\n",
    "print(\"Test Accuracy after tuning the model:\", test_accuracy_linear)\n",
    "print(\"Train Accuracy after tuning the model:\", train_accuracy_linear)"
   ]
  },
  {
   "cell_type": "markdown",
   "id": "d616376c-0ed9-43db-8420-848604c902d7",
   "metadata": {},
   "source": [
    "With tuned linear kernel, I get the training accuracy of 0.9904534606205251 and testing accuracy of 0.9833333333333333 with the optimal parameter C having a value of 0.001."
   ]
  },
  {
   "cell_type": "markdown",
   "id": "6677443e-f669-43f1-911e-2399871aad75",
   "metadata": {},
   "source": [
    "### Polynomial kernel"
   ]
  },
  {
   "cell_type": "markdown",
   "id": "3c9dab7c-d109-416b-8cdb-8383507215be",
   "metadata": {},
   "source": [
    "First I compute the training and test accuracy of the model without tuning the parameters (degree and C)."
   ]
  },
  {
   "cell_type": "code",
   "execution_count": 6,
   "id": "f650a8fb-5c54-41d6-b787-ef6c88825e7c",
   "metadata": {},
   "outputs": [
    {
     "name": "stdout",
     "output_type": "stream",
     "text": [
      "Kernel test accuracy before tuning: 0.9888888888888889\n",
      "Kernel train accuracy before tuning: 0.9992044550517104\n"
     ]
    }
   ],
   "source": [
    "nt_poly_test, nt_poly_train = accuracy_no_tuning(\"poly\")"
   ]
  },
  {
   "cell_type": "markdown",
   "id": "5fd59c83-2ff8-4298-8136-3cc303880126",
   "metadata": {},
   "source": [
    "Without tuning the optimal parameters (having the default ones for the kernel), I get a test accuracy of 0.9888888888888889, and a train accuracy of 0.9992044550517104."
   ]
  },
  {
   "cell_type": "markdown",
   "id": "4cac8a74-1962-45e8-a7c5-c1f797551765",
   "metadata": {},
   "source": [
    "Here I Try to find the optimal hyperparameters (degree and C) for the best accuracy of the model using 10-cross validation, and apart from iterating over C values that I already mentioned, I also iterate over degree values from 1 to 8 to find the optimal one."
   ]
  },
  {
   "cell_type": "code",
   "execution_count": 7,
   "id": "e4084c55-1479-4ac8-b8c7-1e3efb2176e4",
   "metadata": {},
   "outputs": [],
   "source": [
    "degree = [1,2,3,4,5,6, 7, 8]\n",
    "scores = {}\n",
    "\n",
    "# I iterate over all the c values I defined\n",
    "for c in C_values:\n",
    "    # I also iterate over all the degrees \n",
    "    for d in degree:\n",
    "        # First I define a model with those hyper parameters\n",
    "        svm_model = SVC(kernel='poly', C=c, degree=d) \n",
    "        \n",
    "        # Perform cross-validation (here, using 10-fold cross-validation)\n",
    "        cross_val_scores = cross_val_score(svm_model, X_train, y_train, cv=10, scoring='accuracy')\n",
    "        \n",
    "        # Store the average cross-validation accuracy for the current C value\n",
    "        scores[(c, d)] = np.mean(cross_val_scores)\n"
   ]
  },
  {
   "cell_type": "code",
   "execution_count": 8,
   "id": "420bc999-336e-4f36-9e80-c6bffc2e27bf",
   "metadata": {},
   "outputs": [
    {
     "name": "stdout",
     "output_type": "stream",
     "text": [
      "The optimal value C: 10, and the optimal degree is: 3\n",
      "Test Accuracy after tuning the model: 0.9888888888888889\n",
      "Train Accuracy after tuning the model: 1.0\n"
     ]
    }
   ],
   "source": [
    "# Find the C value and degree that gives the highest average cross-validation accuracy\n",
    "best_parameters = max(scores, key=scores.get)\n",
    "\n",
    "# Train the final model with the best C value on the entire training set\n",
    "best_svm_poly = SVC(kernel='poly', C=best_parameters[0], degree=best_parameters[1])\n",
    "best_svm_poly.fit(X_train, y_train)\n",
    "\n",
    "# Evaluate on the test set\n",
    "test_preds = best_svm_poly.predict(X_test)\n",
    "test_accuracy_poly = accuracy_score(y_test, test_preds)\n",
    "\n",
    "# Evaluate on the training set\n",
    "train_preds = best_svm_poly.predict(X_train)\n",
    "train_accuracy_poly = accuracy_score(y_train, train_preds)\n",
    "\n",
    "# Print results\n",
    "print(f\"The optimal value C: {best_parameters[0]}, and the optimal degree is: {best_parameters[1]}\")\n",
    "print(\"Test Accuracy after tuning the model:\", test_accuracy_poly)\n",
    "print(\"Train Accuracy after tuning the model:\", train_accuracy_poly)"
   ]
  },
  {
   "cell_type": "markdown",
   "id": "9874520c-844d-4651-934f-9cfe03147c6a",
   "metadata": {},
   "source": [
    "The optimal C value I get is 10, while the optimal degree is 3. With them, I achieve test accuracy of 0.9888888888888889, and a training accuracy of 1."
   ]
  },
  {
   "cell_type": "markdown",
   "id": "dd23b8ef-7e44-4985-8d00-a17cd0dbed95",
   "metadata": {},
   "source": [
    "### RBF kernel"
   ]
  },
  {
   "cell_type": "markdown",
   "id": "9204a34d-f633-4424-bd7f-10247732c23a",
   "metadata": {},
   "source": [
    "First I compute the training and test accuracy of the model without tuning the kernel parameters (gamma and C)."
   ]
  },
  {
   "cell_type": "code",
   "execution_count": 9,
   "id": "a3004d5d-2c07-4b55-89e3-84c4c2c463bd",
   "metadata": {},
   "outputs": [
    {
     "name": "stdout",
     "output_type": "stream",
     "text": [
      "Kernel test accuracy before tuning: 0.987037037037037\n",
      "Kernel train accuracy before tuning: 0.9968178202068417\n"
     ]
    }
   ],
   "source": [
    "nt_rbf_test, nt_rbf_train = accuracy_no_tuning(\"rbf\")"
   ]
  },
  {
   "cell_type": "markdown",
   "id": "a7c925c6-af95-4f35-b723-cfc484dc777a",
   "metadata": {},
   "source": [
    "Without tuning the parameters, I get a test accuracy of 0.987037037037037 and a training accuracy of 0.9968178202068417."
   ]
  },
  {
   "cell_type": "markdown",
   "id": "b3723de1-773a-4847-ac16-2f1eb1ce4bbd",
   "metadata": {},
   "source": [
    "For tuning the model, I try to find the optimal gamma value by iterating over the values that I defined in the next line, along with the C value. "
   ]
  },
  {
   "cell_type": "code",
   "execution_count": 10,
   "id": "e71f1773-9367-4cea-9f26-71c280c6409d",
   "metadata": {},
   "outputs": [
    {
     "name": "stdout",
     "output_type": "stream",
     "text": [
      "The optimal value of parameter C: 10, and the optimal value of parameter gamma is: 0.001\n",
      "Test Accuracy after tuning the model: 0.9907407407407407\n",
      "Train Accuracy after tuning the model: 1.0\n"
     ]
    }
   ],
   "source": [
    "# Possible optimal gamma parameter values for our kernel which I test out\n",
    "gamma_values = [0.001, 0.01, 0.1, 1, 10]\n",
    "\n",
    "# Dictionary to store results\n",
    "results = {}\n",
    "\n",
    "# Iterate over parameter combinations\n",
    "for C in C_values:\n",
    "    for gamma in gamma_values:\n",
    "        # Initialize SVM with an RBF kernel and the current parameters\n",
    "        svm_rbf = SVC(kernel='rbf', C=C, gamma=gamma)\n",
    "        \n",
    "        # Perform cross-validation (here, using 5-fold cross-validation)\n",
    "        cross_val_scores = cross_val_score(svm_rbf, X_train, y_train, cv=5, scoring='accuracy')\n",
    "        \n",
    "        # Store the average cross-validation accuracy for the current parameters\n",
    "        results[(C, gamma)] = np.mean(cross_val_scores)\n",
    "\n",
    "# Find the parameters that give the highest average cross-validation accuracy\n",
    "best_params = max(results, key=results.get)\n",
    "\n",
    "# Train the final model with the best parameters on the entire training set\n",
    "best_svm_rbf = SVC(kernel='rbf', C=best_params[0], gamma=best_params[1])\n",
    "best_svm_rbf.fit(X_train, y_train)\n",
    "\n",
    "# Evaluate on the test set\n",
    "test_preds = best_svm_rbf.predict(X_test)\n",
    "test_accuracy_rbf = accuracy_score(y_test, test_preds)\n",
    "\n",
    "# Evaluate on the training set\n",
    "train_preds = best_svm_rbf.predict(X_train)\n",
    "train_accuracy_rbf = accuracy_score(y_train, train_preds)\n",
    "\n",
    "# Print results\n",
    "print(f\"The optimal value of parameter C: {best_params[0]}, and the optimal value of parameter gamma is: {best_params[1]}\")\n",
    "print(\"Test Accuracy after tuning the model:\", test_accuracy_rbf)\n",
    "print(\"Train Accuracy after tuning the model:\", train_accuracy_rbf)"
   ]
  },
  {
   "cell_type": "markdown",
   "id": "2b9033a9-fa9f-479d-b82e-d6804e96e12f",
   "metadata": {},
   "source": [
    "The optimal value of C I computed is 10, while the optimal gamma value is 0.001. With them, I got a test accuracy of 0.9907407407407407, and a training accuracy of 1."
   ]
  },
  {
   "cell_type": "markdown",
   "id": "829807bb-e5bc-4f67-9cab-d945e386e498",
   "metadata": {},
   "source": [
    "### Sigmoid kernel"
   ]
  },
  {
   "cell_type": "markdown",
   "id": "1568547a-9900-4fd4-8d91-a1f3a5d332d4",
   "metadata": {},
   "source": [
    "First I compute the training and test accuracy of the model without tuning the kernel parameters (gamma and C)."
   ]
  },
  {
   "cell_type": "code",
   "execution_count": 11,
   "id": "fec5b5e2-2a30-483a-bc39-418f1c2ca661",
   "metadata": {},
   "outputs": [
    {
     "name": "stdout",
     "output_type": "stream",
     "text": [
      "Kernel test accuracy before tuning: 0.9074074074074074\n",
      "Kernel train accuracy before tuning: 0.9196499602227526\n"
     ]
    }
   ],
   "source": [
    "nt_sigmoid_test, nt_sigmoid_train = accuracy_no_tuning(\"sigmoid\")"
   ]
  },
  {
   "cell_type": "markdown",
   "id": "b5494f1d-d023-4a52-9729-d1f0194a6cf6",
   "metadata": {},
   "source": [
    "Without the tuning I get the test accuracy of 0.9074074074074074 and a training accuracy of 0.9196499602227526."
   ]
  },
  {
   "cell_type": "markdown",
   "id": "77cf1c27-223f-49ee-b48f-0c88d5c1a948",
   "metadata": {},
   "source": [
    "For finidg the optimal C value I again iterate over it's values in the array I defined earlier, and for the gamma parameter I just set it to 'scale' as it was suggested on sklearn's website. With iterating over gamma values from my array, I get the same result."
   ]
  },
  {
   "cell_type": "code",
   "execution_count": 12,
   "id": "4c30443a-a4c0-4629-bb42-b881e43f9aa0",
   "metadata": {},
   "outputs": [
    {
     "name": "stdout",
     "output_type": "stream",
     "text": [
      "The optimal value for hyperparameter C: 1\n",
      "Test Accuracy after tuning the model: 0.9074074074074074\n",
      "Train Accuracy after tuning the model: 0.9196499602227526\n"
     ]
    }
   ],
   "source": [
    "# Making a dictionary to store the cross validations scores for each C value\n",
    "results = {}\n",
    "\n",
    "for C in C_values:\n",
    "        # Initialize SVM with a linear kernel and the current C value, while the optimal gamma value can be computed with scale (from the sklearn website)\n",
    "        svm_sigmoid = SVC(kernel='sigmoid', C=C, gamma='scale')\n",
    "        \n",
    "        # Perform cross-validation (here, using 10-fold cross-validation)\n",
    "        cross_val_scores = cross_val_score(svm_sigmoid, X_train, y_train, cv=10, scoring='accuracy')\n",
    "        \n",
    "        # Store the average cross-validation accuracy for the current C value\n",
    "        results[C] = np.mean(cross_val_scores)\n",
    "\n",
    "# Find the C value that gives the highest average cross-validation accuracy\n",
    "best_C = max(results, key=results.get)\n",
    "\n",
    "# Train the final model with the best C value on the entire training set\n",
    "best_svm_sigmoid = SVC(kernel='sigmoid', C=best_C, gamma='scale')\n",
    "best_svm_sigmoid.fit(X_train, y_train)\n",
    "\n",
    "# Evaluate on the test set\n",
    "test_preds = best_svm_sigmoid.predict(X_test)\n",
    "test_accuracy_sigmoid = accuracy_score(y_test, test_preds)\n",
    "\n",
    "# Evaluate on the training set\n",
    "train_preds = best_svm_sigmoid.predict(X_train)\n",
    "train_accuracy_sigmoid = accuracy_score(y_train, train_preds)\n",
    "\n",
    "# Print results\n",
    "print(\"The optimal value for hyperparameter C:\", best_C )\n",
    "print(\"Test Accuracy after tuning the model:\", test_accuracy_sigmoid)\n",
    "print(\"Train Accuracy after tuning the model:\", train_accuracy_sigmoid)"
   ]
  },
  {
   "cell_type": "markdown",
   "id": "e018695c-738a-425b-8bb2-ff03062a3c20",
   "metadata": {},
   "source": [
    "With the optimal value of 1 for c, I get a test accuracy of 0.9074074074074074 and a training accuracy of 0.9196499602227526."
   ]
  },
  {
   "cell_type": "markdown",
   "id": "bae571e2-c24d-480d-9125-6675b61d9fb2",
   "metadata": {},
   "source": [
    "#### After tuning all the models, I will display the achieved results with each kernel, printing the acuracy before and after tuning the hyperparameters"
   ]
  },
  {
   "cell_type": "code",
   "execution_count": 13,
   "id": "a2d4e1c9-0832-4649-9c5d-2ff577f645dd",
   "metadata": {},
   "outputs": [
    {
     "name": "stdout",
     "output_type": "stream",
     "text": [
      "| Kernel | Test Accuracy | Train Accuracy | Tuned Test Accuracy  | Tuned Train Accuracy |\n",
      "|--------|---------------|----------------|----------------------|----------------------|\n",
      "| Linear | 0.97963       | 1.00000        | 0.98333              | 0.99045              |\n",
      "| Poly   | 0.98889       | 0.99920        | 0.98889              | 1.00000              |\n",
      "| RBF    | 0.98704       | 0.99682        | 0.99074              | 1.00000              |\n",
      "| Sig    | 0.9074        | 0.91965        | 0.90741              | 0.91965              |\n"
     ]
    }
   ],
   "source": [
    "# Displaying the results\n",
    "print(\"| Kernel | Test Accuracy | Train Accuracy | Tuned Test Accuracy  | Tuned Train Accuracy |\")\n",
    "print(\"|--------|---------------|----------------|----------------------|----------------------|\")\n",
    "print(f\"| Linear | {nt_linear_test:.5f}       | {nt_linear_train:.5f}        | {test_accuracy_linear:.5f}              | {train_accuracy_linear:.5f}              |\")\n",
    "print(f\"| Poly   | {nt_poly_test:.5f}       | {nt_poly_train:.5f}        | {test_accuracy_poly:.5f}              | {train_accuracy_poly:.5f}              |\")\n",
    "print(f\"| RBF    | {nt_rbf_test:.5f}       | {nt_rbf_train:.5f}        | {test_accuracy_rbf:.5f}              | {train_accuracy_rbf:.5f}              |\")\n",
    "print(f\"| Sig    | {nt_sigmoid_test:.4f}        | {nt_sigmoid_train:.5f}        | {test_accuracy_sigmoid:.5f}              | {train_accuracy_sigmoid:.5f}              |\")"
   ]
  },
  {
   "cell_type": "markdown",
   "id": "2beca934-7793-41a9-953f-de5fd3b963b5",
   "metadata": {},
   "source": [
    "#### Also, we are interested in the differences of accuracies of tuned and not tuned models"
   ]
  },
  {
   "cell_type": "code",
   "execution_count": 14,
   "id": "f2142e85-cbfb-4204-939f-e91975d20f9e",
   "metadata": {},
   "outputs": [
    {
     "name": "stdout",
     "output_type": "stream",
     "text": [
      "| Kernel | Test Difference | Train Difference |\n",
      "|--------|-----------------|------------------|\n",
      "| Linear | 0.00370         | -0.00955         |\n",
      "| Poly   | 0.00000         | 0.00080          |\n",
      "| RBF    | 0.00370         | 0.00318          |\n",
      "| Sig    | 0.00000         | 0.00000          |\n"
     ]
    }
   ],
   "source": [
    "print(\"| Kernel | Test Difference | Train Difference |\")\n",
    "print(\"|--------|-----------------|------------------|\")\n",
    "print(f\"| Linear | {test_accuracy_linear - nt_linear_test:.5f}         | {train_accuracy_linear - nt_linear_train:.5f}         |\")\n",
    "print(f\"| Poly   | {test_accuracy_poly - nt_poly_test:.5f}         | {train_accuracy_poly - nt_poly_train:.5f}          |\")\n",
    "print(f\"| RBF    | {test_accuracy_rbf - nt_rbf_test:.5f}         | {train_accuracy_rbf - nt_rbf_train:.5f}          |\")\n",
    "print(f\"| Sig    | {test_accuracy_sigmoid - nt_sigmoid_test:.5f}         | {train_accuracy_sigmoid - nt_sigmoid_train:.5f}          |\")"
   ]
  },
  {
   "cell_type": "markdown",
   "id": "15209da8-817a-47f7-a0c5-bbdfef0f4c9f",
   "metadata": {},
   "source": [
    "We can see that for the test data accuracies we either achieve greater accuracy or remain at the same, but for training accuracy, we lose some on the training data using linear kernel."
   ]
  },
  {
   "cell_type": "code",
   "execution_count": 27,
   "id": "8092cb7f-ad8e-4e5c-be61-4aa69fd3689c",
   "metadata": {},
   "outputs": [
    {
     "data": {
      "text/plain": [
       "Text(0.5, 1.0, 'Accuracy differences aquired by tuning the kernels')"
      ]
     },
     "execution_count": 27,
     "metadata": {},
     "output_type": "execute_result"
    },
    {
     "data": {
      "image/png": "[encoded data removed]",
      "text/plain": [
       "<Figure size 640x480 with 1 Axes>"
      ]
     },
     "metadata": {},
     "output_type": "display_data"
    }
   ],
   "source": [
    "ker = ['linear', 'poly', 'rbf', 'sigmoid']\n",
    "test = [0.00370, 0, 0.00370, 0]\n",
    "train = [-0.00955, 0.0080, 0.00318, 0]\n",
    "\n",
    "plt.scatter(ker, test, color='g', label=\"Test Accuracy\")\n",
    "plt.scatter(ker, train, color='r', label=\"Training Accuracy\")\n",
    "plt.legend()\n",
    "plt.grid()\n",
    "plt.xlabel(\"Kernel\")\n",
    "plt.ylabel(\"Accuracy\")\n",
    "plt.title(\"Accuracy differences aquired by tuning the kernels\")"
   ]
  },
  {
   "cell_type": "markdown",
   "id": "6e3235a9-3fde-4fad-98c7-186eb4fa8664",
   "metadata": {},
   "source": [
    "## Subtask 2 - Custom kernel"
   ]
  },
  {
   "cell_type": "markdown",
   "id": "3f0e9c7c-ee5a-4aa3-8a93-1086f149bfa9",
   "metadata": {},
   "source": [
    "The approach that I had with this task was to try to combine kernels that we implemented with optimal parametes to try to get better accuracy. I tried some of them by brute force (as explained on the lectures), but I failed to achieve greater accuracy than tuned RBF kernel (my best performing model). "
   ]
  },
  {
   "cell_type": "markdown",
   "id": "3b511938-552e-41e7-97bd-e7c22d59c7ab",
   "metadata": {},
   "source": [
    "First I tried to combine RBF and linear kernels with given parameters, and the accuracy I got is 0.98148."
   ]
  },
  {
   "cell_type": "code",
   "execution_count": 67,
   "id": "b5e7b201-03ee-4cef-b28c-15252f1f0f16",
   "metadata": {},
   "outputs": [
    {
     "name": "stdout",
     "output_type": "stream",
     "text": [
      "Accuracy: 0.98148\n"
     ]
    }
   ],
   "source": [
    "# Defining a custom kernel as a combination of RBF and linear kernels\n",
    "def custom_kernel1(X1, X2, c=10, h=1):\n",
    "    rbf_part = c * np.exp(-np.sum((X1[:, np.newaxis, :] - X2) ** 2, axis=2) / (2 * h**2))\n",
    "    linear_part = np.dot(X1, X2.T)\n",
    "    return rbf_part + linear_part\n",
    "\n",
    "# Create an SVM classifier with the custom kernel\n",
    "svm = SVC(kernel=custom_kernel1)\n",
    "\n",
    "# Train the SVM model\n",
    "svm.fit(X_train, y_train)\n",
    "\n",
    "# Make predictions on the test set\n",
    "y_pred = svm.predict(X_test)\n",
    "\n",
    "# Evaluate the accuracy\n",
    "accuracy = accuracy_score(y_test, y_pred)\n",
    "print(f'Accuracy: {accuracy:.5f}')"
   ]
  },
  {
   "cell_type": "markdown",
   "id": "1662e1fe-9f91-4c3c-a97a-cfcb50a71411",
   "metadata": {},
   "source": [
    "Then I tried combining polynomial and linear kernel, which just gave me a same result as a non-tuning polynomial kernel with accuracy of 0.98889."
   ]
  },
  {
   "cell_type": "code",
   "execution_count": 52,
   "id": "ac0837fa-1d3a-4984-83e0-1309b1cd3e4f",
   "metadata": {},
   "outputs": [
    {
     "name": "stdout",
     "output_type": "stream",
     "text": [
      "Accuracy: 0.98889\n"
     ]
    }
   ],
   "source": [
    "# Defining a custom kernel as a combination of polynomial and linear kernels\n",
    "def custom_kernel2(X1, X2):\n",
    "    poly_part =  polynomial_kernel(X1, X2)\n",
    "    linear_part =   linear_kernel(X1, X2)\n",
    "    return poly_part + linear_part\n",
    "\n",
    "# Create an SVM classifier with the custom kernel\n",
    "svm = SVC(kernel=custom_kernel2)\n",
    "\n",
    "# Train the SVM model\n",
    "svm.fit(X_train, y_train)\n",
    "\n",
    "# Make predictions on the test set\n",
    "y_pred = svm.predict(X_test)\n",
    "\n",
    "# Evaluate the accuracy\n",
    "accuracy = accuracy_score(y_test, y_pred)\n",
    "print(f'Accuracy: {accuracy:.5f}')"
   ]
  },
  {
   "cell_type": "markdown",
   "id": "09811624-3db2-437e-a666-bb984883a8db",
   "metadata": {},
   "source": [
    "And for the last kernel I tried combining the RBF and polynomial kernels as my two best performing ones, but the accuracy I got doesn't differ from the previous one."
   ]
  },
  {
   "cell_type": "code",
   "execution_count": 54,
   "id": "ae74f2b0-67b1-4222-bb4c-69bab8ab9891",
   "metadata": {},
   "outputs": [
    {
     "name": "stdout",
     "output_type": "stream",
     "text": [
      "Accuracy: 0.98889\n"
     ]
    }
   ],
   "source": [
    "# Define a custom kernel as a combination of RBF and polynomial kernels\n",
    "def custom_kernel3(X1, X2):\n",
    "    rbf_part =  rbf_kernel(X1, X2)\n",
    "    poly_part =   polynomial_kernel(X1, X2)\n",
    "    return rbf_part + poly_part\n",
    "\n",
    "# Create an SVM classifier with the custom kernel\n",
    "svm = SVC(kernel=custom_kernel3)\n",
    "\n",
    "# Train the SVM model\n",
    "svm.fit(X_train, y_train)\n",
    "\n",
    "# Make predictions on the test set\n",
    "y_pred = svm.predict(X_test)\n",
    "\n",
    "# Evaluate the accuracy\n",
    "accuracy = accuracy_score(y_test, y_pred)\n",
    "print(f'Accuracy: {accuracy:.5f}')"
   ]
  },
  {
   "cell_type": "markdown",
   "id": "3371a0ec-1921-402e-b3a6-e0a9efc3e8c6",
   "metadata": {},
   "source": [
    "We already proved in the last pen and paper exercise that the sum/multiplication of valid kernels are also valid kernels, so each of the custom kernels I implemented must be valid."
   ]
  },
  {
   "cell_type": "markdown",
   "id": "d6b44e13-cf44-46ca-8fea-81c830cbc892",
   "metadata": {},
   "source": [
    "The idea behind the kernels came from the lectures, where professor discussed that we should either have some kernel based on our domain knowledge about the dataset or try to find a suitable one as a combination of different kernels with brute force."
   ]
  },
  {
   "cell_type": "markdown",
   "id": "48f53d36-4dd7-4fe2-96e4-da9d46a38741",
   "metadata": {},
   "source": [
    "# Task 2 - Feature Selection"
   ]
  },
  {
   "cell_type": "markdown",
   "id": "98646227-47b4-47c7-aad2-d796c801e2cc",
   "metadata": {},
   "source": [
    "In the first part I normalize the data with MinMaxScaler, and after that I split it into training and test data with shuffling."
   ]
  },
  {
   "cell_type": "code",
   "execution_count": 17,
   "id": "71bee7be-919a-4b75-8c21-85b69a8df28e",
   "metadata": {},
   "outputs": [],
   "source": [
    "from sklearn.datasets import load_breast_cancer\n",
    "from sklearn.preprocessing import MinMaxScaler\n",
    "\n",
    "# Load breast cancer dataset\n",
    "data = load_breast_cancer()\n",
    "X = data.data\n",
    "y = data.target\n",
    "\n",
    "# Normalize the data using MinMaxScaler\n",
    "scaler = MinMaxScaler()\n",
    "X_normalized = scaler.fit_transform(X)\n",
    "\n",
    "# Split the data into 70% training and 30% test with shuffling\n",
    "X_train, X_test, y_train, y_test = train_test_split(X_normalized, y, test_size=0.3, random_state=42, shuffle=True)"
   ]
  },
  {
   "cell_type": "markdown",
   "id": "f0a5e220-c1d2-47ad-87a7-974f05dfb509",
   "metadata": {},
   "source": [
    "### Subtask 1 - Forward Greedy Feature Selection"
   ]
  },
  {
   "cell_type": "markdown",
   "id": "4a089c45-8c64-4988-ae01-28b5c9d7b831",
   "metadata": {},
   "source": [
    "In this subtask I have to implement 'Forward greedy feature selection'. Forward greedy feature selection is a heuristic algorithm employed to iteratively build a subset of relevant features that optimizes a chosen performance metric. The process begins with an empty set and progressively adds the most promising feature at each step, evaluating the impact on the model's performance. The way I evaluate the impact is by calculating a 10-fold cross validation. This iterative selection continues until a predetermined criterion is met. The criterion in my case was that the algoritmh iterates as long as the change in the feature subset improves the model's performance. When I add a feature that doesn't contribute to the model's performance, I stop it. Forward greedy feature selection is computationally efficient and often yields reasonably good results, especially when dealing with high-dimensional datasets. However, it may not always guarantee the globally optimal feature subset, as the decisions made at each step are based on local improvements rather than a comprehensive evaluation of all possible subsets."
   ]
  },
  {
   "cell_type": "code",
   "execution_count": 18,
   "id": "67bfecdf-c8e5-4bc6-a26d-36ca492b9be0",
   "metadata": {},
   "outputs": [
    {
     "name": "stdout",
     "output_type": "stream",
     "text": [
      "Added feature is: mean concave points.\n",
      "With new feature set of size 1, we achieve accuracy of: 0.914551282051282.\n",
      "Added feature is: worst texture.\n",
      "With new feature set of size 2, we achieve accuracy of: 0.9347435897435897.\n",
      "Added feature is: worst area.\n",
      "With new feature set of size 3, we achieve accuracy of: 0.9648076923076923.\n",
      "Added feature is: texture error.\n",
      "With new feature set of size 4, we achieve accuracy of: 0.9748076923076923.\n",
      "Added feature is: compactness error.\n",
      "\n",
      "\n",
      "WARNING: Stoping the algorithm because of the worse performance!\n",
      "With new feature set of size 5, we achieve accuracy of: 0.9748076923076923.\n",
      "\n",
      "The optimal features are: ['mean concave points', 'worst texture', 'worst area', 'texture error'], with the feature size 4.\n",
      "The final accuracy we get is: 0.9748076923076923.\n"
     ]
    }
   ],
   "source": [
    "from sklearn.model_selection import cross_val_score, StratifiedKFold\n",
    "\n",
    "\n",
    "# Here I define the feature list from which I add to my model to select the best ones\n",
    "remaining_features = list(range(X.shape[1]))\n",
    "\n",
    "# I define the selected features array with which I train model and evaluate it\n",
    "selected_features = []\n",
    "\n",
    "# We also need to define a model accuracy to compare it when adding new features\n",
    "model_performance = -np.inf\n",
    "\n",
    "while True:\n",
    "    # I define the temporary best score and best feature through the loop\n",
    "    best_score = -np.inf\n",
    "    best_feature = None\n",
    "\n",
    "    # Then I iterate through all features to see which one is the best addition\n",
    "    for f in remaining_features:\n",
    "        chosen_features = selected_features + [f]\n",
    "\n",
    "        # These are the features I will evaluate my model with\n",
    "        X_subset = X_train[:, chosen_features]\n",
    "\n",
    "        # Using SVC as the classifier\n",
    "        svc = SVC()\n",
    "\n",
    "        # Performing 10-fold cross-validation\n",
    "        cv_scores = cross_val_score(svc, X_subset, y_train, cv=StratifiedKFold(n_splits=10, shuffle=True, random_state=42))\n",
    "        average_score = np.mean(cv_scores)\n",
    "\n",
    "        # We check if the feature we added is the best one yet\n",
    "        if(average_score > best_score):\n",
    "            best_score = average_score\n",
    "            best_feature = f\n",
    "\n",
    "    # We update our optimal feature list\n",
    "    selected_features.append(best_feature)\n",
    "    remaining_features.remove(best_feature)\n",
    "    print(f\"Added feature is: {data['feature_names'][best_feature]}.\")\n",
    "\n",
    "\n",
    "    # We check if the model performed better with the added feature or should we stop it\n",
    "    if(best_score > model_performance):\n",
    "        print(f\"With new feature set of size {len(selected_features)}, we achieve accuracy of: {best_score}.\")\n",
    "        model_performance = best_score\n",
    "    else:\n",
    "        print(\"\")\n",
    "        print(\"\")\n",
    "        print(f\"WARNING: Stoping the algorithm because of the worse performance!\")\n",
    "        print(f\"With new feature set of size {len(selected_features)}, we achieve accuracy of: {best_score}.\")\n",
    "        selected_features.remove(best_feature)\n",
    "        print(\"\")\n",
    "        final_features = [data['feature_names'][i] for i in selected_features]\n",
    "        print(f\"The optimal features are: {final_features}, with the feature size {len(final_features)}.\")\n",
    "        print(f\"The final accuracy we get is: {model_performance}.\")\n",
    "        break"
   ]
  },
  {
   "cell_type": "markdown",
   "id": "92501ba9-a0f5-4800-a624-2c8c39648a5a",
   "metadata": {},
   "source": [
    "As seen, if I set the criteria for ending the algorithm to be that the model's performance HAS to improve and can't even stay the same (best_score > model_performance), I get that the optimal number of features is 4, with which I achieve accuracy of 0.9748076923076923. Those features are: \n",
    "1. mean concave points\n",
    "2. worst texture\n",
    "3. worst area\n",
    "4. texture error"
   ]
  },
  {
   "cell_type": "markdown",
   "id": "ec091b1b-fd5a-4da0-ab9c-9be6b1cc153c",
   "metadata": {},
   "source": [
    "### Subtask 2 - Backward Greedy Feature Selection"
   ]
  },
  {
   "cell_type": "markdown",
   "id": "5e5a96fd-dc6d-4cd3-8802-9797f63fd9fb",
   "metadata": {},
   "source": [
    "In the second subtask, I implement 'Backward greedy feature selection' algorithm. It is another heuristic approach used for feature selection, offering a complementary strategy to forward selection. Unlike forward selection, backward feature selection starts with the entire set of features and iteratively removes the least important ones based on a chosen criterion, which in our case is a 10-fold cross validation. The process continues until a predefined stopping condition is met, which is in this case the performance of our model after removed feature being worse than in the last step. Backward feature selection can be advantageous in scenarios where the initial feature space is large, as it systematically trims down the set of features, potentially reducing overfitting and improving model interpretability. It also consideres dependencies between features. However, similar to forward selection, it may not always guarantee the globally optimal subset and could be sensitive to the choice of the stopping criterion. "
   ]
  },
  {
   "cell_type": "code",
   "execution_count": 19,
   "id": "ca5b3c57-b183-4e8b-a7b1-7fca4e49f6fb",
   "metadata": {},
   "outputs": [
    {
     "name": "stdout",
     "output_type": "stream",
     "text": [
      "Removed feature is: symmetry error.\n",
      "With new feature set of size 29, we achieve accuracy of: 0.9722435897435897.\n",
      "Removed feature is: mean radius.\n",
      "With new feature set of size 28, we achieve accuracy of: 0.9722435897435897.\n",
      "Removed feature is: mean perimeter.\n",
      "With new feature set of size 27, we achieve accuracy of: 0.9722435897435897.\n",
      "Removed feature is: mean smoothness.\n",
      "With new feature set of size 26, we achieve accuracy of: 0.9747435897435898.\n",
      "Removed feature is: mean symmetry.\n",
      "With new feature set of size 25, we achieve accuracy of: 0.9747435897435898.\n",
      "Removed feature is: mean area.\n",
      "With new feature set of size 24, we achieve accuracy of: 0.9747435897435898.\n",
      "Removed feature is: radius error.\n",
      "With new feature set of size 23, we achieve accuracy of: 0.9747435897435898.\n",
      "Removed feature is: worst texture.\n",
      "With new feature set of size 22, we achieve accuracy of: 0.9748076923076923.\n",
      "Removed feature is: mean compactness.\n",
      "With new feature set of size 21, we achieve accuracy of: 0.9748076923076923.\n",
      "Removed feature is: fractal dimension error.\n",
      "With new feature set of size 20, we achieve accuracy of: 0.9773076923076923.\n",
      "Removed feature is: concavity error.\n",
      "With new feature set of size 19, we achieve accuracy of: 0.9773076923076923.\n",
      "Removed feature is: worst area.\n",
      "With new feature set of size 18, we achieve accuracy of: 0.9773076923076923.\n",
      "Removed feature is: mean concavity.\n",
      "\n",
      "\n",
      "WARNING: Stoping the algorithm because of the worse performance!\n",
      "With new feature set of size 17, we achieve accuracy of: 0.9748076923076923.\n",
      "\n",
      "The optimal features are: ['mean texture', 'mean concave points', 'mean fractal dimension', 'texture error', 'perimeter error', 'area error', 'smoothness error', 'compactness error', 'concave points error', 'worst radius', 'worst perimeter', 'worst smoothness', 'worst compactness', 'worst concavity', 'worst concave points', 'worst symmetry', 'worst fractal dimension', 'mean concavity'], with the feature size 18.\n",
      "The final accuracy we get is: 0.9773076923076923.\n"
     ]
    }
   ],
   "source": [
    "from sklearn.model_selection import cross_val_score, StratifiedKFold\n",
    "\n",
    "\n",
    "# Here I define the feature list from which I add to my model to select the best ones\n",
    "remaining_features = list(range(X.shape[1]))\n",
    "\n",
    "# We also need to define a model accuracy to compare it when adding new features\n",
    "model_performance = -np.inf\n",
    "\n",
    "while True:\n",
    "    # I define the temporary best score and best feature through the loop\n",
    "    best_score = -np.inf\n",
    "    worst_feature = None\n",
    "\n",
    "    # Then I iterate through all features to see which one is the best addition\n",
    "    for f in remaining_features:\n",
    "        chosen_features = remaining_features.copy()\n",
    "        chosen_features.remove(f)\n",
    "\n",
    "        # These are the features I will evaluate my model with\n",
    "        X_subset = X_train[:, chosen_features]\n",
    "\n",
    "        # Using SVC as the classifier\n",
    "        svc = SVC()\n",
    "\n",
    "        # Performing 10-fold cross-validation\n",
    "        cv_scores = cross_val_score(svc, X_subset, y_train, cv=StratifiedKFold(n_splits=10, shuffle=True, random_state=42))\n",
    "        average_score = np.mean(cv_scores)\n",
    "\n",
    "        # We check if the feature we added is the best one yet\n",
    "        if(average_score > best_score):\n",
    "            best_score = average_score\n",
    "            worst_feature = f\n",
    "\n",
    "    # We update our optimal feature list\n",
    "    remaining_features.remove(worst_feature)\n",
    "    print(f\"Removed feature is: {data['feature_names'][worst_feature]}.\")\n",
    "\n",
    "    \n",
    "    # We check if the model performed better with the added feature or should we stop it\n",
    "    if(best_score >= model_performance):\n",
    "        print(f\"With new feature set of size {len(remaining_features)}, we achieve accuracy of: {best_score}.\")\n",
    "        model_performance = best_score\n",
    "    else:\n",
    "        print(\"\")\n",
    "        print(\"\")\n",
    "        print(f\"WARNING: Stoping the algorithm because of the worse performance!\")\n",
    "        print(f\"With new feature set of size {len(remaining_features)}, we achieve accuracy of: {best_score}.\")\n",
    "        remaining_features.append(worst_feature)\n",
    "        print(\"\")\n",
    "        final_features = [data['feature_names'][i] for i in remaining_features]\n",
    "        print(f\"The optimal features are: {final_features}, with the feature size {len(final_features)}.\")\n",
    "        print(f\"The final accuracy we get is: {model_performance}.\")\n",
    "        break"
   ]
  },
  {
   "cell_type": "markdown",
   "id": "a020b678-2058-4207-8e65-2201dd7b667f",
   "metadata": {},
   "source": [
    "As you can see, I have removed 12 features to get the optimal accuracy of 0.9773076923076923. The features that I removed are:\n",
    "1. symmetry error\n",
    "2. mean radius\n",
    "3. mean perimeter\n",
    "4. mean smoothnes\n",
    "5. mean symmetry\n",
    "6. mean area\n",
    "7. radius error\n",
    "8. worst texture\n",
    "9. mean compactness\n",
    "10. fractal dimension error\n",
    "11. concavity error\n",
    "12. worst area\n",
    "\n",
    "We can also see that the model accuracy stays the same often when removing the worst features, but we keep on goint since our goal is to have as small features subset as possible while being sufficient."
   ]
  },
  {
   "cell_type": "markdown",
   "id": "65a90a05-5026-4df5-81a3-fe470c926826",
   "metadata": {},
   "source": [
    "### Subtask 3 - Feature Importance"
   ]
  },
  {
   "cell_type": "markdown",
   "id": "baf81adb-d4ec-47a5-a9e5-ac68189ddddb",
   "metadata": {},
   "source": [
    "#### Part 1 - Forward greedy feature selection"
   ]
  },
  {
   "cell_type": "markdown",
   "id": "f019d106-1301-4255-81f8-65fec2a555a9",
   "metadata": {},
   "source": [
    "In this form of forward greedy feature selection I do mostly the same thing, except the algorithm stopping criteria, where I change it to stop after 6 iterations since six optimal features are choosen after it. I just add a iteration counter that I increase in each iteration and I check it's value in each iteration to see when to stop the algorithm."
   ]
  },
  {
   "cell_type": "code",
   "execution_count": 20,
   "id": "df579386-9ed5-43bf-a827-cd6e98ddfe36",
   "metadata": {},
   "outputs": [
    {
     "name": "stdout",
     "output_type": "stream",
     "text": [
      "Added feature is: mean concave points.\n",
      "With new feature set of size 1, we achieve accuracy of: 0.914551282051282.\n",
      "\n",
      "Added feature is: worst texture.\n",
      "With new feature set of size 2, we achieve accuracy of: 0.9347435897435897.\n",
      "\n",
      "Added feature is: worst area.\n",
      "With new feature set of size 3, we achieve accuracy of: 0.9648076923076923.\n",
      "\n",
      "Added feature is: texture error.\n",
      "With new feature set of size 4, we achieve accuracy of: 0.9748076923076923.\n",
      "\n",
      "Added feature is: compactness error.\n",
      "With new feature set of size 5, we achieve accuracy of: 0.9748076923076923.\n",
      "\n",
      "Added feature is: worst smoothness.\n",
      "With new feature set of size 6, we achieve accuracy of: 0.9773717948717948.\n",
      "\n",
      "\n",
      "WARNING: Stoping the algorithm because of the number of features!\n",
      "\n",
      "The optimal features are: ['mean concave points', 'worst texture', 'worst area', 'texture error', 'compactness error', 'worst smoothness'].\n",
      "The final accuracy we get is: 0.9773717948717948.\n"
     ]
    }
   ],
   "source": [
    "# Here I define the feature list from which I add to my model to select the best ones\n",
    "remaining_features = list(range(X.shape[1]))\n",
    "\n",
    "# I define the selected features array with which I train model and evaluate it\n",
    "selected_features = []\n",
    "\n",
    "# We also need to define a model accuracy to compare it when adding new features\n",
    "model_performance = -np.inf\n",
    "\n",
    "# Adding the iteration counter for stopping the algorithm\n",
    "iteration = 0\n",
    "\n",
    "while True:\n",
    "    # I define the temporary best score and best feature through the loop\n",
    "    best_score = -np.inf\n",
    "    best_feature = None\n",
    "    \n",
    "    # Then I iterate through all features to see which one is the best addition\n",
    "    for f in remaining_features:\n",
    "        chosen_features = selected_features + [f]\n",
    "\n",
    "        # These are the features I will evaluate my model with\n",
    "        X_subset = X_train[:, chosen_features]\n",
    "\n",
    "        # Using SVC as the classifier\n",
    "        svc = SVC()\n",
    "\n",
    "        # Performing 10-fold cross-validation\n",
    "        cv_scores = cross_val_score(svc, X_subset, y_train, cv=StratifiedKFold(n_splits=10, shuffle=True, random_state=42))\n",
    "        average_score = np.mean(cv_scores)\n",
    "\n",
    "        # We check if the feature we added is the best one yet\n",
    "        if(average_score > best_score):\n",
    "            best_score = average_score\n",
    "            best_feature = f\n",
    "\n",
    "    # We update our optimal feature list\n",
    "    selected_features.append(best_feature)\n",
    "    remaining_features.remove(best_feature)\n",
    "    iteration += 1\n",
    "\n",
    "    # We check if the model performed better with the added feature or should we stop it\n",
    "    if(iteration < 7):\n",
    "        print(f\"Added feature is: {data['feature_names'][best_feature]}.\")\n",
    "        print(f\"With new feature set of size {len(selected_features)}, we achieve accuracy of: {best_score}.\")\n",
    "        print(\"\")\n",
    "        model_performance = best_score\n",
    "    else:\n",
    "        print(\"\")\n",
    "        print(f\"WARNING: Stoping the algorithm because of the number of features!\")\n",
    "        selected_features.remove(best_feature)\n",
    "        print(\"\")\n",
    "        final_features = [data['feature_names'][i] for i in selected_features]\n",
    "        print(f\"The optimal features are: {final_features}.\")\n",
    "        print(f\"The final accuracy we get is: {model_performance}.\")\n",
    "        break"
   ]
  },
  {
   "cell_type": "markdown",
   "id": "b22c1c08-cb3e-4b03-8a6e-f2a1a7d73d5a",
   "metadata": {},
   "source": [
    "With forward greedy feature selection, the 6 features that I choose for my algorithm are:\n",
    "1. mean concave points\n",
    "2. worst texture\n",
    "3. worst area\n",
    "4. texture error\n",
    "5. compactness error\n",
    "6. worst smoothness"
   ]
  },
  {
   "cell_type": "markdown",
   "id": "8132e2b0-e7fa-4385-89f6-c0954a8bd9a0",
   "metadata": {},
   "source": [
    "#### Part 2 - Backward greedy feature selection"
   ]
  },
  {
   "cell_type": "markdown",
   "id": "eaa04548-5878-479b-8e2a-cabc5df48e30",
   "metadata": {},
   "source": [
    "With this type of backward greedy feature selection I also start off the same, and in each step I check the remaining number of features from the optimal feature subset. Since I remove some features in each iteration, it's size changes and when the size of the subset reaches 6, I stop the algorithm."
   ]
  },
  {
   "cell_type": "code",
   "execution_count": 21,
   "id": "852602f7-1761-48a1-bd1c-cd61f355f210",
   "metadata": {},
   "outputs": [
    {
     "name": "stdout",
     "output_type": "stream",
     "text": [
      "Removed feature is: symmetry error.\n",
      "With new feature set of size 29, we achieve accuracy of: 0.9722435897435897.\n",
      "Removed feature is: mean radius.\n",
      "With new feature set of size 28, we achieve accuracy of: 0.9722435897435897.\n",
      "Removed feature is: mean perimeter.\n",
      "With new feature set of size 27, we achieve accuracy of: 0.9722435897435897.\n",
      "Removed feature is: mean smoothness.\n",
      "With new feature set of size 26, we achieve accuracy of: 0.9747435897435898.\n",
      "Removed feature is: mean symmetry.\n",
      "With new feature set of size 25, we achieve accuracy of: 0.9747435897435898.\n",
      "Removed feature is: mean area.\n",
      "With new feature set of size 24, we achieve accuracy of: 0.9747435897435898.\n",
      "Removed feature is: radius error.\n",
      "With new feature set of size 23, we achieve accuracy of: 0.9747435897435898.\n",
      "Removed feature is: worst texture.\n",
      "With new feature set of size 22, we achieve accuracy of: 0.9748076923076923.\n",
      "Removed feature is: mean compactness.\n",
      "With new feature set of size 21, we achieve accuracy of: 0.9748076923076923.\n",
      "Removed feature is: fractal dimension error.\n",
      "With new feature set of size 20, we achieve accuracy of: 0.9773076923076923.\n",
      "Removed feature is: concavity error.\n",
      "With new feature set of size 19, we achieve accuracy of: 0.9773076923076923.\n",
      "Removed feature is: worst area.\n",
      "With new feature set of size 18, we achieve accuracy of: 0.9773076923076923.\n",
      "Removed feature is: mean concavity.\n",
      "With new feature set of size 17, we achieve accuracy of: 0.9748076923076923.\n",
      "Removed feature is: smoothness error.\n",
      "With new feature set of size 16, we achieve accuracy of: 0.9798076923076924.\n",
      "Removed feature is: concave points error.\n",
      "With new feature set of size 15, we achieve accuracy of: 0.9798076923076924.\n",
      "Removed feature is: worst fractal dimension.\n",
      "With new feature set of size 14, we achieve accuracy of: 0.9823076923076923.\n",
      "Removed feature is: texture error.\n",
      "With new feature set of size 13, we achieve accuracy of: 0.9823076923076923.\n",
      "Removed feature is: perimeter error.\n",
      "With new feature set of size 12, we achieve accuracy of: 0.9798076923076924.\n",
      "Removed feature is: compactness error.\n",
      "With new feature set of size 11, we achieve accuracy of: 0.9798076923076924.\n",
      "Removed feature is: worst compactness.\n",
      "With new feature set of size 10, we achieve accuracy of: 0.9798076923076924.\n",
      "Removed feature is: worst concavity.\n",
      "With new feature set of size 9, we achieve accuracy of: 0.9823076923076923.\n",
      "Removed feature is: area error.\n",
      "With new feature set of size 8, we achieve accuracy of: 0.9773076923076923.\n",
      "Removed feature is: worst perimeter.\n",
      "With new feature set of size 7, we achieve accuracy of: 0.9747435897435898.\n",
      "Removed feature is: mean fractal dimension.\n",
      "With new feature set of size 6, we achieve accuracy of: 0.9697435897435899.\n",
      "Removed feature is: worst concave points.\n",
      "\n",
      "WARNING: Stoping the algorithm because of the number of features!\n",
      "\n",
      "The optimal features are: ['mean texture', 'mean concave points', 'worst radius', 'worst smoothness', 'worst symmetry', 'worst concave points'].\n",
      "The final accuracy we get is: 0.9697435897435899.\n"
     ]
    }
   ],
   "source": [
    "# Here I define the feature list from which I add to my model to select the best ones\n",
    "remaining_features = list(range(X.shape[1]))\n",
    "\n",
    "# We also need to define a model accuracy to compare it when adding new features\n",
    "model_performance = -np.inf\n",
    "\n",
    "while True:\n",
    "    # I define the temporary best score and best feature through the loop\n",
    "    best_score = -np.inf\n",
    "    worst_feature = None\n",
    "\n",
    "    # Then I iterate through all features to see which one is the best addition\n",
    "    for f in remaining_features:\n",
    "        chosen_features = remaining_features.copy()\n",
    "        chosen_features.remove(f)\n",
    "\n",
    "        # These are the features I will evaluate my model with\n",
    "        X_subset = X_train[:, chosen_features]\n",
    "\n",
    "        # Using SVC as the classifier\n",
    "        svc = SVC()\n",
    "\n",
    "        # Performing 10-fold cross-validation\n",
    "        cv_scores = cross_val_score(svc, X_subset, y_train, cv=StratifiedKFold(n_splits=10, shuffle=True, random_state=42))\n",
    "        average_score = np.mean(cv_scores)\n",
    "\n",
    "        # We check if the feature we added is the best one yet\n",
    "        if(average_score > best_score):\n",
    "            best_score = average_score\n",
    "            worst_feature = f\n",
    "\n",
    "    # We update our optimal feature list\n",
    "    remaining_features.remove(worst_feature)\n",
    "    print(f\"Removed feature is: {data['feature_names'][worst_feature]}.\")\n",
    "\n",
    "    \n",
    "    # We check if the model performed better with the added feature or should we stop it\n",
    "    if(len(remaining_features) >= 6):\n",
    "        print(f\"With new feature set of size {len(remaining_features)}, we achieve accuracy of: {best_score}.\")\n",
    "        model_performance = best_score\n",
    "    else:\n",
    "        print(\"\")\n",
    "        print(f\"WARNING: Stoping the algorithm because of the number of features!\")\n",
    "        remaining_features.append(worst_feature)\n",
    "        print(\"\")\n",
    "        final_features = [data['feature_names'][i] for i in remaining_features]\n",
    "        print(f\"The optimal features are: {final_features}.\")\n",
    "        print(f\"The final accuracy we get is: {model_performance}.\")\n",
    "        break"
   ]
  },
  {
   "cell_type": "markdown",
   "id": "7378771b-d32e-4b94-861f-de5f7cfdce4d",
   "metadata": {},
   "source": [
    "With the backward greedy feature selection algorithm, the 6 features that I choose are:\n",
    "1. mean texture\n",
    "2. mean concave points\n",
    "3. worst radius\n",
    "4. worst smoothness\n",
    "5. worst symmetry\n",
    "6. worst concave points"
   ]
  },
  {
   "cell_type": "markdown",
   "id": "d3a38129-74d4-41c0-8035-6ed90663c16f",
   "metadata": {},
   "source": [
    "The common optimal features I calculated with both algorithms are 'Mean concave points' and 'Worst smoothness', while the rest are differet. The reason they differ is beacause forward greedy feature selection is prone to only choose local optimal solutions without looking at the rest, where on the other hand, backward greedy feature selection also takes dependencies of features into count."
   ]
  },
  {
   "cell_type": "code",
   "execution_count": null,
   "id": "bbf2925d-e937-4732-815c-6125749a0104",
   "metadata": {},
   "outputs": [],
   "source": []
  }
 ],
 "metadata": {
  "kernelspec": {
   "display_name": "Python 3 (ipykernel)",
   "language": "python",
   "name": "python3"
  },
  "language_info": {
   "codemirror_mode": {
    "name": "ipython",
    "version": 3
   },
   "file_extension": ".py",
   "mimetype": "text/x-python",
   "name": "python",
   "nbconvert_exporter": "python",
   "pygments_lexer": "ipython3",
   "version": "3.11.0"
  }
 },
 "nbformat": 4,
 "nbformat_minor": 5
}
